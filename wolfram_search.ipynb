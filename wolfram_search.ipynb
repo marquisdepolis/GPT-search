{
 "cells": [
  {
   "cell_type": "code",
   "execution_count": null,
   "metadata": {},
   "outputs": [],
   "source": [
    "!pip install wolframalpha"
   ]
  },
  {
   "cell_type": "code",
   "execution_count": 11,
   "metadata": {},
   "outputs": [
    {
     "name": "stdout",
     "output_type": "stream",
     "text": [
      "\"What is the impact of Tesla's long-term debt on its financial performance?\"\n"
     ]
    }
   ],
   "source": [
    "# Python program to demonstrate creation of an assistant using wolf ram API\n",
    "import wolframalpha\n",
    "import time\n",
    "import openai\n",
    "import requests\n",
    "import os\n",
    "\n",
    "with open(\"openai_api_key.txt\", \"r\") as f:\n",
    "    openai.api_key = f.read().strip()\n",
    "\n",
    "# Taking input from user, and set up the GPT-3 API request\n",
    "request = input('Part of interest: ')\n",
    "model = \"text-davinci-003\"\n",
    "params = {\n",
    "    \"prompt\": \"What fact can we pass to Wolfram Alpha to get insight on this: \" + request,\n",
    "    \"temperature\": 0.5,\n",
    "    \"max_tokens\": 100,\n",
    "    \"top_p\": 1,\n",
    "    \"frequency_penalty\": 0,\n",
    "    \"presence_penalty\": 0\n",
    "}\n",
    "# Call the GPT-3 API and print the response\n",
    "response = openai.Completion.create(engine=model, **params)\n",
    "question = response.choices[0].text.strip()\n",
    "print(question)"
   ]
  },
  {
   "cell_type": "code",
   "execution_count": 10,
   "metadata": {},
   "outputs": [
    {
     "name": "stdout",
     "output_type": "stream",
     "text": [
      "{'@success': True, '@error': 'false', '@xml:space': 'preserve', '@numpods': '4', '@datatypes': 'Element,Financial', '@timedout': '', '@timedoutpods': '', '@timing': '3.46', '@parsetiming': '0.', '@parsetimedout': 'false', '@recalculate': '', '@id': 'MSP1009516gd27fih80894f1000053290dda02e09285', '@host': 'https://www6b3.wolframalpha.com', '@server': '20', '@related': 'https://www6b3.wolframalpha.com/api/v1/relatedQueries.jsp?id=MSPa1009616gd27fih80894f100005b6eg34500e326638458888475783217078', '@version': '2.6', '@inputstring': 'price of nickel and lithium', 'pod': [{'@title': 'Input interpretation', '@scanner': 'Data', '@id': 'Input', '@position': 100.0, '@error': 'false', '@numsubpods': 1, 'subpod': {'@title': '', 'img': {'@src': 'https://www6b3.wolframalpha.com/Calculate/MSP/MSP1009716gd27fih80894f100002ef8ai75ic6f71dg?MSPStoreType=image/gif&s=20', '@alt': 'nickel lithium | price', '@title': 'nickel lithium | price', '@width': 138, '@height': 62, '@type': 'Grid', '@themes': '1,2,3,4,5,6,7,8,9,10,11,12', '@colorinvertable': 'true', '@contenttype': 'image/gif'}, 'plaintext': 'nickel\\nlithium | price'}, 'expressiontypes': {'@count': '1', 'expressiontype': {'@name': 'Grid'}}}, {'@title': 'Results', '@scanner': 'Data', '@id': 'Result', '@position': 200.0, '@error': 'false', '@numsubpods': 1, '@primary': True, 'subpod': {'@title': '', 'microsources': {'microsource': ['ElementData', 'FinancialData']}, 'datasources': {'datasource': ['USGSHistoricalStatisticsForMineralAndMaterialCommodities', 'FinnhubStockAPI', 'NasdaqDataLink']}, 'img': {'@src': 'https://www6b3.wolframalpha.com/Calculate/MSP/MSP1009816gd27fih80894f100003e7i5ieg8fbdcc96?MSPStoreType=image/gif&s=20', '@alt': 'nickel | £0.59 per troy ounce (British pounds per troy ounce) lithium | £0.10 per troy ounce (British pounds per troy ounce) (July 2011)', '@title': 'nickel | £0.59 per troy ounce (British pounds per troy ounce) lithium | £0.10 per troy ounce (British pounds per troy ounce) (July 2011)', '@width': 396, '@height': 91, '@type': 'Grid', '@themes': '1,2,3,4,5,6,7,8,9,10,11,12', '@colorinvertable': 'true', '@contenttype': 'image/gif'}, 'plaintext': 'nickel | £0.59 per troy ounce (British pounds per troy ounce)\\nlithium | £0.10 per troy ounce (British pounds per troy ounce)\\n(July 2011)'}, 'expressiontypes': {'@count': '1', 'expressiontype': {'@name': 'Grid'}}}, {'@title': 'Relative values', '@scanner': 'Data', '@id': 'Comparisons:Price:ElementData', '@position': 300.0, '@error': 'false', '@numsubpods': 1, 'subpod': {'@title': '', 'microsources': {'microsource': ['ElementData', 'FinancialData']}, 'datasources': {'datasource': ['USGSHistoricalStatisticsForMineralAndMaterialCommodities', 'FinnhubStockAPI', 'NasdaqDataLink']}, 'img': {'@src': 'https://www6b3.wolframalpha.com/Calculate/MSP/MSP1009916gd27fih80894f10000559aehfehe3hc3h6?MSPStoreType=image/gif&s=20', '@alt': ' | visual | ratios | | comparisons nickel | | 5.915 | 1 | 491.5% larger lithium | | 1 | 0.1691 | 83.09% smaller', '@title': ' | visual | ratios | | comparisons nickel | | 5.915 | 1 | 491.5% larger lithium | | 1 | 0.1691 | 83.09% smaller', '@width': 398, '@height': 95, '@type': 'Grid', '@themes': '1,2,3,4,5,6,7,8,9,10,11,12', '@colorinvertable': 'true', '@contenttype': 'image/gif'}, 'plaintext': '| visual | ratios | | comparisons\\nnickel | | 5.915 | 1 | 491.5% larger\\nlithium | | 1 | 0.1691 | 83.09% smaller'}, 'expressiontypes': {'@count': '1', 'expressiontype': {'@name': 'Grid'}}, 'states': {'@count': '1', 'state': {'@name': 'Reverse', '@input': 'Comparisons:Price:ElementData__Reverse'}}}, {'@title': 'History', '@scanner': 'Data', '@id': 'PriceHistory:ElementData', '@position': 400.0, '@error': 'false', '@numsubpods': 1, 'subpod': {'@title': '', 'microsources': {'microsource': 'ElementData'}, 'datasources': {'datasource': 'USGSHistoricalStatisticsForMineralAndMaterialCommodities'}, 'img': {'@src': 'https://www6b3.wolframalpha.com/Calculate/MSP/MSP1010016gd27fih80894f10000407ad035i0g30fhg?MSPStoreType=image/gif&s=20', '@alt': 'History', '@title': '', '@width': 546, '@height': 231, '@type': 'TimeSeriesPlot_2', '@themes': '1,2,3,4,5,6,7,8,9,10,11,12', '@colorinvertable': 'true', '@contenttype': 'image/gif'}, 'plaintext': None}, 'expressiontypes': {'@count': '1', 'expressiontype': {'@name': 'Default'}}, 'states': {'@count': '1', 'state': {'@name': 'Log scale', '@input': 'PriceHistory:ElementData__Log scale'}}}], 'assumptions': {'@count': '3', 'assumption': [{'@type': 'Clash', '@word': 'lithium', '@template': 'Assuming \"${word}\" is ${desc1}. Use as ${desc2} instead', '@count': '3', 'value': [{'@name': 'Element', '@desc': 'a chemical element', '@input': '*C.lithium-_*Element-'}, {'@name': 'Chemical', '@desc': 'a chemical compound', '@input': '*C.lithium-_*Chemical-'}, {'@name': 'ChemicalIntermediate', '@desc': 'an ion', '@input': '*C.lithium-_*ChemicalIntermediate-'}]}, {'@type': 'Clash', '@word': 'nickel', '@template': 'Assuming \"${word}\" is ${desc1}. Use as ${desc2} instead', '@count': '2', 'value': [{'@name': 'Element', '@desc': 'a chemical element', '@input': '*C.nickel-_*Element-'}, {'@name': 'Chemical', '@desc': 'a chemical compound', '@input': '*C.nickel-_*Chemical-'}]}, {'@type': 'Clash', '@word': 'price', '@template': 'Assuming \"${word}\" is ${desc1}. Use as ${desc2} instead', '@count': '2', 'value': [{'@name': 'ElementProperty', '@desc': ' referring to elements', '@input': '*C.price-_*ElementProperty-'}, {'@name': 'ChemicalLing', '@desc': ' referring to chemical compounds', '@input': '*C.price-_*ChemicalLing-'}]}]}, 'sources': {'@count': '2', 'source': [{'@url': 'https://www6b3.wolframalpha.com/sources/ElementDataSourceInformationNotes.html', '@text': 'Element data'}, {'@url': 'https://www6b3.wolframalpha.com/sources/FinancialDataSourceInformationNotes.html', '@text': 'Financial data'}]}}\n",
      "nickel | £0.59 per troy ounce (British pounds per troy ounce)\n",
      "lithium | £0.10 per troy ounce (British pounds per troy ounce)\n",
      "(July 2011)\n"
     ]
    }
   ],
   "source": [
    "# App id obtained by the above steps\n",
    "with open(\"wolfram_key.txt\", \"r\") as f:\n",
    "    app_id = f.read().strip()\n",
    "\n",
    "# url = f\"http://api.wolframalpha.com/v2/query?appid={app_id}&input={question}\"\n",
    "# Instance of wolf ram alpha client class\n",
    "client = wolframalpha.Client(app_id)\n",
    "\n",
    "# Stores the response from wolf ram alpha\n",
    "res = client.query(question)\n",
    "# res = requests.get(url).json()\n",
    "print(res)\n",
    "# Includes only text from the response\n",
    "try:\n",
    "    answer = next(res.results).text\n",
    "    time.sleep(2)\n",
    "    print(answer)\n",
    "except StopIteration:\n",
    "    print(\"No results found.\")"
   ]
  },
  {
   "cell_type": "code",
   "execution_count": null,
   "metadata": {},
   "outputs": [],
   "source": [
    "print(res.results)"
   ]
  },
  {
   "cell_type": "code",
   "execution_count": null,
   "metadata": {},
   "outputs": [],
   "source": []
  }
 ],
 "metadata": {
  "kernelspec": {
   "display_name": "Python 3",
   "language": "python",
   "name": "python3"
  },
  "language_info": {
   "codemirror_mode": {
    "name": "ipython",
    "version": 3
   },
   "file_extension": ".py",
   "mimetype": "text/x-python",
   "name": "python",
   "nbconvert_exporter": "python",
   "pygments_lexer": "ipython3",
   "version": "3.9.6"
  },
  "orig_nbformat": 4,
  "vscode": {
   "interpreter": {
    "hash": "31f2aee4e71d21fbe5cf8b01ff0e069b9275f58929596ceb00d14d90e3e16cd6"
   }
  }
 },
 "nbformat": 4,
 "nbformat_minor": 2
}
